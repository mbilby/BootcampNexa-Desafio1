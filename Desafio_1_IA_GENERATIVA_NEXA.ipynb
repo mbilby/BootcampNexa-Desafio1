{
  "nbformat": 4,
  "nbformat_minor": 0,
  "metadata": {
    "colab": {
      "provenance": [],
      "authorship_tag": "ABX9TyMAU2+5yeKd7Vs6eEWkhaPF",
      "include_colab_link": true
    },
    "kernelspec": {
      "name": "python3",
      "display_name": "Python 3"
    },
    "language_info": {
      "name": "python"
    }
  },
  "cells": [
    {
      "cell_type": "markdown",
      "metadata": {
        "id": "view-in-github",
        "colab_type": "text"
      },
      "source": [
        "<a href=\"https://colab.research.google.com/github/mbilby/BootcampNexa-Desafio1/blob/main/Desafio_1_IA_GENERATIVA_NEXA.ipynb\" target=\"_parent\"><img src=\"https://colab.research.google.com/assets/colab-badge.svg\" alt=\"Open In Colab\"/></a>"
      ]
    },
    {
      "cell_type": "markdown",
      "source": [
        "Dicionário de associação as caracteristicas aos modelos Claude 3"
      ],
      "metadata": {
        "id": "iGL0NR1EwH1z"
      }
    },
    {
      "cell_type": "code",
      "execution_count": null,
      "metadata": {
        "id": "KZuYPEpov6qZ"
      },
      "outputs": [],
      "source": [
        "caracteristicas_modelos = {\n",
        "    \"automatizar tarefas\": \"Claude 3 Opus\",\n",
        "    \"pesquisa e desenvolvimento\": \"Claude 3 Opus\",\n",
        "    \"resposta rápida e capacidade de resposta quase instantânea\": \"Claude 3 Haiku\",\n",
        "    \"motores de chatbots de lojas\": \"Claude 3 Haiku\",\n",
        "    \"moderação de conteúdo\": \"Claude 3 Haiku\",\n",
        "    \"processamento de tarefas mais básicas\": \"Claude 3 Haiku\",\n",
        "    \"raciocínio cuidadoso\": \"Claude 3 Sonnet\",\n",
        "    \"processamento de dados\": \"Claude 3 Sonnet\",\n",
        "    \"aplicações de vendas\": \"Claude 3 Sonnet\",\n",
        "    \"extração de texto de imagens\": \"Claude 3 Sonnet\",\n",
        "    \"equilíbrio ideal entre inteligência e velocidade\": \"Claude 3 Sonnet\",\n",
        "}"
      ]
    },
    {
      "cell_type": "code",
      "source": [
        "def encontrar_modelo(caracteristica):\n",
        "  for key, value in caracteristicas_modelos.items():\n",
        "      if key.lower() == caracteristica.lower():\n",
        "        return value\n",
        "  return \"Não foi possível localizar um modelo baseado em sua caracteristica...\""
      ],
      "metadata": {
        "id": "HBhCqwBcxim8"
      },
      "execution_count": null,
      "outputs": []
    },
    {
      "cell_type": "code",
      "source": [
        "caracteristicas = input(\"Informe as caracteristicas para busca: \")\n",
        "modelo = encontrar_modelo(caracteristicas)\n",
        "print(f\"Modelo: {modelo}\")"
      ],
      "metadata": {
        "colab": {
          "base_uri": "https://localhost:8080/"
        },
        "id": "HNFFhiJ9yahq",
        "outputId": "11294f8d-6d93-4d91-c175-cd376f485b66"
      },
      "execution_count": null,
      "outputs": [
        {
          "output_type": "stream",
          "name": "stdout",
          "text": [
            "Informe as caracteristicas para busca: extração de texto de imagens\n",
            "Modelo: Claude 3 Sonnet\n"
          ]
        }
      ]
    }
  ]
}